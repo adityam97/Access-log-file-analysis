{
 "cells": [
  {
   "cell_type": "code",
   "execution_count": 1,
   "metadata": {},
   "outputs": [
    {
     "name": "stdout",
     "output_type": "stream",
     "text": [
      "status code  403  -> count 1\n",
      "status code  200  -> count 303\n",
      "status code  404  -> count 242\n",
      "status code  301  -> count 8\n",
      "status code  302  -> count 9\n",
      "status code  304  -> count 42\n",
      "status code  400  -> count 1\n"
     ]
    }
   ],
   "source": [
    "\n",
    "import re\n",
    "\n",
    "def get_status_count(file_name):\n",
    "    data = open(file_name).read()\n",
    "    data = re.findall(r' \\d\\d\\d ',data)\n",
    "    data = dict((i, data.count(i)) for i in data)\n",
    "    for k, v in data.items():\n",
    "        print(\"status code\",k,\"-> count\", v)\n",
    "\n",
    "file_name = \"access_log\"\n",
    "get_status_count(file_name)\n",
    "################################\n",
    "print(\"you're done\")\n",
    "print(\"YOu may leave\")"
   ]
  },
  {
   "cell_type": "code",
   "execution_count": null,
   "metadata": {},
   "outputs": [],
   "source": []
  }
 ],
 "metadata": {
  "kernelspec": {
   "display_name": "Python 3",
   "language": "python",
   "name": "python3"
  },
  "language_info": {
   "codemirror_mode": {
    "name": "ipython",
    "version": 3
   },
   "file_extension": ".py",
   "mimetype": "text/x-python",
   "name": "python",
   "nbconvert_exporter": "python",
   "pygments_lexer": "ipython3",
   "version": "3.7.1-final"
  }
 },
 "nbformat": 4,
 "nbformat_minor": 4
}